{
 "cells": [
  {
   "cell_type": "code",
   "execution_count": 1,
   "metadata": {},
   "outputs": [
    {
     "name": "stderr",
     "output_type": "stream",
     "text": [
      "  % Total    % Received % Xferd  Average Speed   Time    Time     Time  Current\n",
      "                                 Dload  Upload   Total   Spent    Left  Speed\n",
      "  0     0    0     0    0     0      0      0 --:--:-- --:--:-- --:--:--     0"
     ]
    },
    {
     "name": "stdout",
     "output_type": "stream",
     "text": [
      "{'yearLow': '21,281.45', 'last': '22,124.70', 'indexName': 'NIFTY 50', 'yearHigh': '26,277.35', 'previousClose': '22,545.05', 'high': '22,450.35', 'indexType': 'eq', 'low': '22,104.85', 'timeVal': 'Feb 28, 2025 15:32:56', 'percChange': '-1.86', 'indexOrder': '0.00', 'open': '22,433.40', 'indexSubType': 'bm'}\n"
     ]
    },
    {
     "name": "stderr",
     "output_type": "stream",
     "text": [
      "100 81044  100 81044    0     0   188k      0 --:--:-- --:--:-- --:--:--  187k\n"
     ]
    }
   ],
   "source": [
    "from nsepythonserver import *\n",
    "# positions = nsefetch('https://www.nseindia.com/api/equity-stockIndices?index=SECURITIES%20IN%20F%26O')\n",
    "# df = pd.DataFrame(positions['data'])\n",
    "# print(df)\n",
    "print(nse_get_index_quote(\"NIFTY 50\"))"
   ]
  }
 ],
 "metadata": {
  "kernelspec": {
   "display_name": "discord",
   "language": "python",
   "name": "python3"
  },
  "language_info": {
   "codemirror_mode": {
    "name": "ipython",
    "version": 3
   },
   "file_extension": ".py",
   "mimetype": "text/x-python",
   "name": "python",
   "nbconvert_exporter": "python",
   "pygments_lexer": "ipython3",
   "version": "3.13.2"
  }
 },
 "nbformat": 4,
 "nbformat_minor": 2
}
